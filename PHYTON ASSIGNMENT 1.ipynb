{
 "cells": [
  {
   "cell_type": "code",
   "execution_count": 1,
   "metadata": {},
   "outputs": [
    {
     "name": "stdout",
     "output_type": "stream",
     "text": [
      "ENTER RADIUS OF THE CIRCLE: 0.5\n",
      "ARAE OF THE CIRCLE IS :   0.7855\n"
     ]
    }
   ],
   "source": [
    "# Q.NO :1 write a phyton program which accepts the radius of the circle from user and compiute Area?\n",
    "pi = 3.142\n",
    "radius = float(input(\"ENTER RADIUS OF THE CIRCLE: \"))\n",
    "area = 3.142*radius*radius\n",
    "print(\"ARAE OF THE CIRCLE IS :  \",float(area))\n"
   ]
  },
  {
   "cell_type": "code",
   "execution_count": 4,
   "metadata": {},
   "outputs": [
    {
     "name": "stdout",
     "output_type": "stream",
     "text": [
      "\"Check Number either positive, negative or zero\"\n",
      "\n",
      "Enter Number: -1\n",
      "THE GIVEN NO. IS NEGATIVE\n"
     ]
    }
   ],
   "source": [
    "# Q.NO :2 write a phyton program to check if  a number is positive ,negative or zero?\n",
    "print('\"Check Number either positive, negative or zero\"')\n",
    "print(\"\")\n",
    "num=int(input(\"Enter Number: \"))\n",
    "if num==0:\n",
    "    print(\"THE GIVEN NO. IS ZERO: \",num)\n",
    "elif num>0:\n",
    "     print(\"THE GIVEN NO. IS POSTIVE: \",num)\n",
    "else:\n",
    "    print(\"THE GIVEN NO. IS NEGATIVE\")"
   ]
  },
  {
   "cell_type": "code",
   "execution_count": 5,
   "metadata": {},
   "outputs": [
    {
     "name": "stdout",
     "output_type": "stream",
     "text": [
      "\"Check Number either positive, negative or zero\"\n",
      "\n",
      "Enter Number: 3\n",
      "THE GIVEN NO. IS POSTIVE:  3\n"
     ]
    }
   ],
   "source": [
    "print('\"Check Number either positive, negative or zero\"')\n",
    "print(\"\")\n",
    "num=int(input(\"Enter Number: \"))\n",
    "if num==0:\n",
    "    print(\"THE GIVEN NO. IS ZERO: \",num)\n",
    "elif num>0:\n",
    "     print(\"THE GIVEN NO. IS POSTIVE: \",num)\n",
    "else:\n",
    "    print(\"THE GIVEN NO. IS NEGATIVE\")"
   ]
  },
  {
   "cell_type": "code",
   "execution_count": 6,
   "metadata": {},
   "outputs": [
    {
     "name": "stdout",
     "output_type": "stream",
     "text": [
      "\"Check Number either positive, negative or zero\"\n",
      "\n",
      "Enter Number: 0\n",
      "THE GIVEN NO. IS ZERO:  0\n"
     ]
    }
   ],
   "source": [
    "print('\"Check Number either positive, negative or zero\"')\n",
    "print(\"\")\n",
    "num=int(input(\"Enter Number: \"))\n",
    "if num==0:\n",
    "    print(\"THE GIVEN NO. IS ZERO: \",num)\n",
    "elif num>0:\n",
    "     print(\"THE GIVEN NO. IS POSTIVE: \",num)\n",
    "else:\n",
    "    print(\"THE GIVEN NO. IS NEGATIVE\")"
   ]
  },
  {
   "cell_type": "code",
   "execution_count": null,
   "metadata": {},
   "outputs": [],
   "source": [
    "# Q.NO :3 Write a Python program to check whether a number is completely divisible by another number. Accept two integer\n",
    "#values form the user\n",
    "\n",
    "print(\"divisibility check\".upper())\n",
    "num = int(input(\"ENTER NUMERETOR\"))\n",
    "dum = int(input(\"ENTER Denominator\"))\n",
    "res = num%dum\n",
    "if res==0:\n",
    "    print(\"Number\" ,num,\"is Completely divisible by\",dum )\n",
    "else:\n",
    "    print(\"Number\" ,num, \"is not Completely divisible by\",dum)\n",
    "\n"
   ]
  },
  {
   "cell_type": "code",
   "execution_count": 3,
   "metadata": {},
   "outputs": [
    {
     "name": "stdout",
     "output_type": "stream",
     "text": [
      "DIVISIBILITY CHECK\n",
      "ENTER NUMERETOR7\n",
      "ENTER Denominator4\n",
      "Number 7 is not Completely divisible by 4\n"
     ]
    }
   ],
   "source": [
    "print(\"divisibility check\".upper())\n",
    "num = int(input(\"ENTER NUMERETOR\"))\n",
    "dum = int(input(\"ENTER Denominator\"))\n",
    "res = num%dum\n",
    "if res==0:\n",
    "    print(\"Number\" ,num,\"is Completely divisible by\",dum )\n",
    "else:\n",
    "    print(\"Number\" ,num, \"is not Completely divisible by\",dum)"
   ]
  },
  {
   "cell_type": "code",
   "execution_count": 2,
   "metadata": {},
   "outputs": [
    {
     "name": "stdout",
     "output_type": "stream",
     "text": [
      "ENTER 1ST DATE [dd/mm/yyyy]: 12/12/2018\n",
      "ENTER 2nd DATE [dd/mm/yyyy]:16/12/2018\n",
      "There are 4 Days in between 12/12/2018 and 16/12/2018\n"
     ]
    }
   ],
   "source": [
    "# Q.NO 4: Write a Python program to calculate number of days between two dates\n",
    "\n",
    "\n",
    "import datetime\n",
    "def days(day1,day2):\n",
    "    return (day2-day1).days\n",
    "\n",
    "date1st=input(\"ENTER 1ST DATE [dd/mm/yyyy]: \")\n",
    "date2nd=input(\"ENTER 2nd DATE [dd/mm/yyyy]:\")\n",
    "x = date1st.split('/')\n",
    "y = date2nd.split('/')\n",
    "d1,m1,y1 = int(x[0]),int(x[1]),int(x[2])\n",
    "d2,m2,y2 = int(y[0]),int(y[1]),int(y[2])\n",
    "date1 = datetime.date(y1,m1,d1)\n",
    "date2 = datetime.date(y2,m2,d2)\n",
    "print(\"There are\",days(date1,date2),\"Days in between\",date1st, \"and\",date2nd)"
   ]
  },
  {
   "cell_type": "code",
   "execution_count": 1,
   "metadata": {},
   "outputs": [
    {
     "name": "stdout",
     "output_type": "stream",
     "text": [
      "ENTER RADIUS OF SPHERE: 0.65\n",
      "THE VOLUME OF GIVEN RADIUS IS:  1.1504956666666668\n"
     ]
    }
   ],
   "source": [
    "# Q.NO 5:Write a Python program to get the volume of a sphere, \n",
    "#please take the radius as input from user\n",
    "r=float(input(\"ENTER RADIUS OF SPHERE: \"))\n",
    "pi=3.142\n",
    "x = (4/3)*pi*(r*r*r)\n",
    "print(\"THE VOLUME OF GIVEN RADIUS IS: \",x)\n",
    "\n",
    "\n",
    "\n",
    "\n"
   ]
  },
  {
   "cell_type": "code",
   "execution_count": 9,
   "metadata": {},
   "outputs": [
    {
     "name": "stdout",
     "output_type": "stream",
     "text": [
      "Enter radius:45\n",
      "Volume of sphere is: 381703.51\n"
     ]
    }
   ],
   "source": [
    "import math\n",
    "radius= float(input(\"Enter radius:\"))\n",
    "volume = round(4/3*(math.pi*(radius**3)),2)\n",
    "print(\"Volume of sphere is:\",volume)"
   ]
  },
  {
   "cell_type": "code",
   "execution_count": 2,
   "metadata": {},
   "outputs": [
    {
     "name": "stdout",
     "output_type": "stream",
     "text": [
      "ENTER ANY STRING VALUE: ALI\n",
      "HOW MANY COPIES DO YOU WANT: 4\n",
      "ALIALIALIALI\n"
     ]
    }
   ],
   "source": [
    "# Q.NO 6:Write a Python program to get a string which is n (non-negative integer) \n",
    "#copies of a given string. \n",
    "a=str(input(\"ENTER ANY STRING VALUE: \"))\n",
    "b=int(input(\"HOW MANY COPIES DO YOU WANT: \"))\n",
    "c=b*a\n",
    "print(c)"
   ]
  },
  {
   "cell_type": "code",
   "execution_count": 6,
   "metadata": {},
   "outputs": [
    {
     "name": "stdout",
     "output_type": "stream",
     "text": [
      "ENTER ANY NO. TO CHECK ITS EVEN OR ODD: 6\n",
      "THE GIVEN NO. 6  IS EVEN\n"
     ]
    }
   ],
   "source": [
    "# Q.NO 7: Write a Python program to find whether a given number (accept from the user)\n",
    "#is even or odd, print out an appropriate message to the user\n",
    "\n",
    "\n",
    "y=int(input(\"ENTER ANY NO. TO CHECK ITS EVEN OR ODD: \"))\n",
    "if(y%2==0):\n",
    "    print(\"THE GIVEN NO.\",y,\" IS EVEN\")\n",
    "else:\n",
    "    print(\"THE GIVEN NO.\",y,\" IS ODD\")\n"
   ]
  },
  {
   "cell_type": "code",
   "execution_count": 1,
   "metadata": {},
   "outputs": [
    {
     "name": "stdout",
     "output_type": "stream",
     "text": [
      "ENTER ANY NO. TO CHECK ITS EVEN OR ODD: 9\n",
      "THE GIVEN NO. 9  IS ODD\n"
     ]
    }
   ],
   "source": [
    "y=int(input(\"ENTER ANY NO. TO CHECK ITS EVEN OR ODD: \"))\n",
    "if(y%2==0):\n",
    "    print(\"THE GIVEN NO.\",y,\" IS EVEN\")\n",
    "else:\n",
    "    print(\"THE GIVEN NO.\",y,\" IS ODD\")\n"
   ]
  },
  {
   "cell_type": "code",
   "execution_count": 4,
   "metadata": {},
   "outputs": [
    {
     "name": "stdout",
     "output_type": "stream",
     "text": [
      "ENTER ALPHABAT TO CHECK ITS VOWEL OR NOTd\n",
      "NOT VOWEL  d\n"
     ]
    }
   ],
   "source": [
    "\n",
    "\n",
    "# Q.NO 8:Write a Python program to test whether a passed letter is a vowel or not\n",
    "v = ['A','E','I','O','U','a','e','i','o','u']\n",
    "z = input(\"ENTER ALPHABAT TO CHECK ITS VOWEL OR NOT\")\n",
    "if z in v:\n",
    "    print(\"VOWEL \",z)\n",
    "        \n",
    "else:\n",
    "        print(\"NOT VOWEL \",z)\n",
    "\n",
    "\n"
   ]
  },
  {
   "cell_type": "code",
   "execution_count": 6,
   "metadata": {},
   "outputs": [
    {
     "name": "stdout",
     "output_type": "stream",
     "text": [
      "Enter magnitude of Triangle base:34\n",
      "Enter magnitude of Triangle height:9.5\n",
      "Area of a Triangle with Height 9.5  and Base 34.0  is 8\n"
     ]
    }
   ],
   "source": [
    "# Q.NO 9:Write a Python program that will accept the base and height of a triangle and compute the area\n",
    "\n",
    "base= float(input(\"Enter magnitude of Triangle base:\"))\n",
    "height = float(input(\"Enter magnitude of Triangle height:\"))\n",
    "area= (base*height)/2\n",
    "print(\"Area of a Triangle with Height\",height,\" and Base\",base, \" is 8\")\n",
    "\n",
    "\n",
    "\n"
   ]
  },
  {
   "cell_type": "code",
   "execution_count": 8,
   "metadata": {},
   "outputs": [
    {
     "name": "stdout",
     "output_type": "stream",
     "text": [
      "Please enter principal amount: 10000\n",
      "Please Enter Rate of interest in %: 0.1\n",
      "Enter number of years for investment: 5\n",
      "16105.100000000006\n"
     ]
    }
   ],
   "source": [
    "# Q.NO 10:Write a Python program to compute the future value of a specified principal amount, rate of interest, and a number\n",
    "#of years\n",
    "p = float(input(\"Please enter principal amount: \"))\n",
    "r = float(input(\"Please Enter Rate of interest in %: \"))\n",
    "y = float(input(\"Enter number of years for investment: \"))\n",
    "a = p* (pow((1 + r*100 / 100), y))\n",
    "\n",
    "print(a)"
   ]
  },
  {
   "cell_type": "code",
   "execution_count": 2,
   "metadata": {},
   "outputs": [
    {
     "name": "stdout",
     "output_type": "stream",
     "text": [
      "Enter Co-Ordinate For x1 :7\n",
      "Enter Co-Ordinate For x2 :8\n",
      "Enter Co-Ordinate For y1 :9\n",
      "Enter Co-Ordinate For y2 :10\n",
      "2.8284271247461903\n"
     ]
    }
   ],
   "source": [
    "# Q.NO 11: Write a Python program to compute the distance between the points (x1, y1) and (x2, y2).\n",
    "\n",
    "\n",
    "import math\n",
    "\n",
    "x1 = int(input(\"Enter Co-Ordinate For x1 :\"))\n",
    "x2 = int(input(\"Enter Co-Ordinate For x2 :\"))\n",
    "y1 = int(input(\"Enter Co-Ordinate For y1 :\"))\n",
    "y2 = int(input(\"Enter Co-Ordinate For y2 :\"))\n",
    "\n",
    "dis = math.sqrt( ((x1-y1)**2)+((x2-y2)**2) )\n",
    "\n",
    "print(dis)\n",
    "\n"
   ]
  },
  {
   "cell_type": "code",
   "execution_count": null,
   "metadata": {},
   "outputs": [],
   "source": [
    "# Q.NO 12:Write a Python program to convert height in feet to centimetres.\n",
    "Height = float(input(\"Enter Height in feet\"))\n",
    "\n",
    "Cm = Height * 30.48\n",
    "\n",
    "print(\"There are \",Cm , \" cm in \",Height,\" ft\")"
   ]
  },
  {
   "cell_type": "code",
   "execution_count": 1,
   "metadata": {},
   "outputs": [
    {
     "name": "stdout",
     "output_type": "stream",
     "text": [
      "Enter Your Height in Cm170\n",
      "Enter Your Weight in kg78\n",
      "26.989619377162633\n"
     ]
    }
   ],
   "source": [
    "# Q.NO 13:Write a Python program to calculate body mass index\n",
    "Height = float(input(\"Enter Your Height in Cm\"))\n",
    "Weight = float(input(\"Enter Your Weight in kg\"))\n",
    "\n",
    "heightMeters = Height * 0.01\n",
    "\n",
    "\n",
    "Bmi = Weight / (heightMeters * heightMeters)\n",
    "\n",
    "print(Bmi)"
   ]
  },
  {
   "cell_type": "code",
   "execution_count": 4,
   "metadata": {},
   "outputs": [
    {
     "name": "stdout",
     "output_type": "stream",
     "text": [
      "Enter Number Of n: 9\n",
      "45\n"
     ]
    }
   ],
   "source": [
    "# Q.NO 14:Write a python program to sum of the first n positive integers\n",
    "sum = 0\n",
    "\n",
    "Number =int(input(\"Enter Number Of n: \"))\n",
    "if Number >=0:\n",
    "    total = int(Number * (Number + 1)/2)\n",
    "    print(total)\n",
    "else:\n",
    "    print(Number,\" is not positive Number\")"
   ]
  },
  {
   "cell_type": "code",
   "execution_count": 6,
   "metadata": {},
   "outputs": [
    {
     "name": "stdout",
     "output_type": "stream",
     "text": [
      "Enter a Number4897\n",
      "4 + 8 + 9 + 7\n",
      "Sum Of  4 + 8 + 9 + 7  is  28\n"
     ]
    }
   ],
   "source": [
    "# Q.NO 15:Write a Python program to calculate the sum of the digits in an integer\n",
    "\n",
    "number =int(input(\"Enter a Number\"))\n",
    "\n",
    "sumnum = str(number)\n",
    "\n",
    "lst = list(sumnum)\n",
    "\n",
    "\n",
    "totalDigits = ' + '.join(sumnum)\n",
    "\n",
    "print(totalDigits)\n",
    "\n",
    "total = 0\n",
    "while number>0:\n",
    "    digit = number%10\n",
    "    total = total+digit\n",
    "    number = number//10\n",
    "print(\"Sum Of \", totalDigits, \" is \", total)\n",
    "\n"
   ]
  },
  {
   "cell_type": "code",
   "execution_count": 14,
   "metadata": {},
   "outputs": [
    {
     "name": "stdout",
     "output_type": "stream",
     "text": [
      "Enter a decimal number 9\n",
      "Binary Representation of  9  is  1001 "
     ]
    }
   ],
   "source": [
    "# Q.NO 16:Write a Python program to convert an decimal integer to binary\n",
    "decimal = int(input(\"Enter a decimal number \"))\n",
    "finalDecimal = decimal\n",
    "\n",
    "\n",
    "array=[]\n",
    "\n",
    "while(decimal>0):\n",
    "    digit=decimal%2\n",
    "    array.append(digit)\n",
    "    decimal=decimal//2\n",
    "    \n",
    "    \n",
    "    s = [str(i) for i in array] \n",
    "      \n",
    "   \n",
    "    res = int(\"\".join(s))     \n",
    "array.reverse()\n",
    "\n",
    "print(\"Binary Representation of \", finalDecimal,\" is \",res,end=\" \")\n"
   ]
  },
  {
   "cell_type": "code",
   "execution_count": 9,
   "metadata": {},
   "outputs": [
    {
     "name": "stdout",
     "output_type": "stream",
     "text": [
      "Enter a Binary number 1011\n",
      "Decimal Representation of  1011  is  11\n"
     ]
    }
   ],
   "source": [
    "# Q.NO 17:Write a program to convert binary number to Decimal number:\n",
    "binaryNumber = input(\"Enter a Binary number \")\n",
    "binaryNumberList = list(binaryNumber)\n",
    "defaultValue = 0\n",
    "actualNumber = str(binaryNumber)\n",
    "\n",
    "\n",
    "\n",
    "for d in range(len(binaryNumberList)):\n",
    "    numbers = binaryNumberList.pop()\n",
    "    if numbers == '1':\n",
    "        defaultValue = defaultValue + pow(2, d)\n",
    "print(\"Decimal Representation of \", actualNumber,\" is \" ,defaultValue)"
   ]
  },
  {
   "cell_type": "code",
   "execution_count": 1,
   "metadata": {},
   "outputs": [
    {
     "name": "stdout",
     "output_type": "stream",
     "text": [
      "Enter Text ilovepakistan\n",
      "Vowels :  6\n",
      "Consonants :  7\n"
     ]
    }
   ],
   "source": [
    "# Q.NO 18:Input a text and count the occurrences of vowels and consonant\n",
    "userInput = input(\"Enter Text \")\n",
    "vowels = 0\n",
    "consonants = 0\n",
    "for i in userInput:\n",
    "    if(i == 'a' or i == 'e' or i == 'i' or i == 'o' or i == 'u'\n",
    "       or i == 'A' or i == 'E' or i == 'I' or i == 'O' or i == 'U'):\n",
    "        vowels = vowels + 1\n",
    "    else:\n",
    "        consonants = consonants + 1\n",
    "\n",
    "print(\"Vowels : \",vowels)\n",
    "print(\"Consonants : \",consonants)"
   ]
  },
  {
   "cell_type": "code",
   "execution_count": 2,
   "metadata": {},
   "outputs": [
    {
     "name": "stdout",
     "output_type": "stream",
     "text": [
      "Enter Text :hey\n",
      "Text  hey  is not Palindrome\n"
     ]
    }
   ],
   "source": [
    "# Q.NO 19:Write a program to check whether given input is palindrome or not\n",
    "\n",
    "Input = input(\"Enter Text :\")\n",
    "palindrome = Input[::-1]\n",
    "if Input == palindrome:\n",
    "    print(\"Text \" , Input,\" is Palindrome\")\n",
    "else:\n",
    "    print(\"Text \" , Input,\" is not Palindrome\")"
   ]
  },
  {
   "cell_type": "code",
   "execution_count": 4,
   "metadata": {},
   "outputs": [
    {
     "name": "stdout",
     "output_type": "stream",
     "text": [
      "Please Enter your Own String : Python 3.2 and\n",
      "\n",
      "Total Number of Alphabets in this String :   9\n",
      "Total Number of Digits in this String :   2\n",
      "Total Number of Special Characters in this String :   1\n",
      "Total Number of Spaces in this String :   2\n"
     ]
    }
   ],
   "source": [
    "# Q.NO 20:Write a Python program that accepts a string and calculate the number of digits and letters\n",
    "userInput = input(\"Please Enter your Own String : \")\n",
    "alphabets = digits = special = 0\n",
    "spaces = userInput.count(' ')\n",
    "for i in range(len(userInput)):\n",
    "    if(userInput[i].isalpha()):\n",
    "        alphabets = alphabets + 1\n",
    "    elif(userInput[i].isdigit()):\n",
    "        digits = digits + 1\n",
    "    else:\n",
    "        special = special + 1\n",
    "\n",
    "specialCharacter = special - spaces\n",
    "print(\"\\nTotal Number of Alphabets in this String :  \", alphabets)\n",
    "print(\"Total Number of Digits in this String :  \", digits)\n",
    "print(\"Total Number of Special Characters in this String :  \", specialCharacter) \n",
    "print(\"Total Number of Spaces in this String :  \", spaces)"
   ]
  },
  {
   "cell_type": "code",
   "execution_count": 5,
   "metadata": {},
   "outputs": [
    {
     "name": "stdout",
     "output_type": "stream",
     "text": [
      "\n",
      "* \n",
      "* * \n",
      "* * * \n",
      "* * * * \n",
      "* * * * * \n",
      "* * * * \n",
      "* * * \n",
      "* * \n",
      "* \n"
     ]
    }
   ],
   "source": [
    "# Q.NO 21:Write a Python program to construct the following pattern\n",
    "number=5;\n",
    "for i in range(number):\n",
    "    for j in range(i):\n",
    "        print ('* ', end=\"\")\n",
    "        \n",
    "    print('')\n",
    "\n",
    "for i in range(number,0,-1):\n",
    "    for j in range(i):\n",
    "        print('* ', end=\"\")\n",
    "    print('')"
   ]
  },
  {
   "cell_type": "code",
   "execution_count": 6,
   "metadata": {},
   "outputs": [
    {
     "name": "stdout",
     "output_type": "stream",
     "text": [
      "\n",
      "1\n",
      "12\n",
      "123\n",
      "1234\n",
      "12345\n",
      "1234\n",
      "123\n",
      "12\n",
      "1\n"
     ]
    }
   ],
   "source": [
    "# Q.NO 22: Write a Python program to construct the following pattern\n",
    "number=5\n",
    "random = 1\n",
    "for i in range(number):\n",
    "    for j in range(i):\n",
    "        print (j+1, end=\"\")\n",
    "    \n",
    "    print('')\n",
    "\n",
    "for i in range(5,0,-1):\n",
    "    for j in range(i):\n",
    "        print(j+1, end=\"\")\n",
    "    print('')"
   ]
  },
  {
   "cell_type": "code",
   "execution_count": 7,
   "metadata": {},
   "outputs": [
    {
     "name": "stdout",
     "output_type": "stream",
     "text": [
      "\n",
      "1\n",
      "22\n",
      "333\n",
      "4444\n",
      "55555\n",
      "666666\n",
      "7777777\n",
      "88888888\n",
      "999999999\n"
     ]
    }
   ],
   "source": [
    "# Q.NO 23: pattern\n",
    "for i in range(10):\n",
    "    print(str(i) * i)"
   ]
  },
  {
   "cell_type": "code",
   "execution_count": null,
   "metadata": {},
   "outputs": [],
   "source": []
  }
 ],
 "metadata": {
  "kernelspec": {
   "display_name": "Python 3",
   "language": "python",
   "name": "python3"
  },
  "language_info": {
   "codemirror_mode": {
    "name": "ipython",
    "version": 3
   },
   "file_extension": ".py",
   "mimetype": "text/x-python",
   "name": "python",
   "nbconvert_exporter": "python",
   "pygments_lexer": "ipython3",
   "version": "3.7.3"
  }
 },
 "nbformat": 4,
 "nbformat_minor": 2
}
